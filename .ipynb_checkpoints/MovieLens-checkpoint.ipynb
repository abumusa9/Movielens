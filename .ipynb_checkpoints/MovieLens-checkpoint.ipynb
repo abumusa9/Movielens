{
 "cells": [
  {
   "cell_type": "markdown",
   "id": "8013a71e",
   "metadata": {},
   "source": [
    "# MovieLens 1M Dataset"
   ]
  },
  {
   "cell_type": "markdown",
   "id": "30632dff",
   "metadata": {},
   "source": [
    "GroupLens Research provides a number of collections of movie ratings collected from users of MovieLens in the Late 1990s and early 2000s. The MovieLens 1M dataset contains 1million ratings collected from 6,000 users on 4,000 movies. It's spread across three tables: ratings, user information, and movie information. From this dataset I am going to analyse the following: \n",
    "(1) Top Movies among Males and Females. \n",
    "(2) Measuring Rating Disagreement.\n",
    "(3) Most popular Genres.\n",
    "(4) User vs Movies distribution.\n",
    "(5) Movies recommendar engine."
   ]
  },
  {
   "cell_type": "code",
   "execution_count": 1,
   "id": "57787349",
   "metadata": {},
   "outputs": [],
   "source": [
    "import pandas as pd\n",
    "import numpy as np\n",
    "import matplotlib.pyplot as plt\n",
    "import seaborn as sns\n",
    "\n",
    "\n",
    "\n",
    "pd.options.display.max_rows = 10"
   ]
  },
  {
   "cell_type": "code",
   "execution_count": 2,
   "id": "19124904",
   "metadata": {},
   "outputs": [],
   "source": [
    "unames = ['user_id', 'gender', 'age', 'occupation', 'zip']\n",
    "users = pd.read_table('ml-1m/users.dat', sep='::', engine='python', header=None, names=unames)"
   ]
  },
  {
   "cell_type": "code",
   "execution_count": 3,
   "id": "93ab442c",
   "metadata": {},
   "outputs": [],
   "source": [
    "rnames = ['user_id', 'movie_id', 'rating', 'timestamp']\n",
    "ratings = pd.read_table('ml-1m/ratings.dat', sep='::', header=None, engine='python', names=rnames)"
   ]
  },
  {
   "cell_type": "code",
   "execution_count": 4,
   "id": "fc95dd4b",
   "metadata": {},
   "outputs": [],
   "source": [
    "mnames = ['movie_id', 'title', 'genres']\n",
    "movies = pd.read_table('ml-1m/movies.dat', sep='::', encoding='latin-1', skiprows=3114, header=None, engine='python', names=mnames)"
   ]
  },
  {
   "cell_type": "code",
   "execution_count": 5,
   "id": "b8f5d9e2",
   "metadata": {},
   "outputs": [
    {
     "data": {
      "text/html": [
       "<div>\n",
       "<style scoped>\n",
       "    .dataframe tbody tr th:only-of-type {\n",
       "        vertical-align: middle;\n",
       "    }\n",
       "\n",
       "    .dataframe tbody tr th {\n",
       "        vertical-align: top;\n",
       "    }\n",
       "\n",
       "    .dataframe thead th {\n",
       "        text-align: right;\n",
       "    }\n",
       "</style>\n",
       "<table border=\"1\" class=\"dataframe\">\n",
       "  <thead>\n",
       "    <tr style=\"text-align: right;\">\n",
       "      <th></th>\n",
       "      <th>user_id</th>\n",
       "      <th>gender</th>\n",
       "      <th>age</th>\n",
       "      <th>occupation</th>\n",
       "      <th>zip</th>\n",
       "    </tr>\n",
       "  </thead>\n",
       "  <tbody>\n",
       "    <tr>\n",
       "      <th>0</th>\n",
       "      <td>1</td>\n",
       "      <td>F</td>\n",
       "      <td>1</td>\n",
       "      <td>10</td>\n",
       "      <td>48067</td>\n",
       "    </tr>\n",
       "    <tr>\n",
       "      <th>1</th>\n",
       "      <td>2</td>\n",
       "      <td>M</td>\n",
       "      <td>56</td>\n",
       "      <td>16</td>\n",
       "      <td>70072</td>\n",
       "    </tr>\n",
       "    <tr>\n",
       "      <th>2</th>\n",
       "      <td>3</td>\n",
       "      <td>M</td>\n",
       "      <td>25</td>\n",
       "      <td>15</td>\n",
       "      <td>55117</td>\n",
       "    </tr>\n",
       "    <tr>\n",
       "      <th>3</th>\n",
       "      <td>4</td>\n",
       "      <td>M</td>\n",
       "      <td>45</td>\n",
       "      <td>7</td>\n",
       "      <td>02460</td>\n",
       "    </tr>\n",
       "    <tr>\n",
       "      <th>4</th>\n",
       "      <td>5</td>\n",
       "      <td>M</td>\n",
       "      <td>25</td>\n",
       "      <td>20</td>\n",
       "      <td>55455</td>\n",
       "    </tr>\n",
       "  </tbody>\n",
       "</table>\n",
       "</div>"
      ],
      "text/plain": [
       "   user_id gender  age  occupation    zip\n",
       "0        1      F    1          10  48067\n",
       "1        2      M   56          16  70072\n",
       "2        3      M   25          15  55117\n",
       "3        4      M   45           7  02460\n",
       "4        5      M   25          20  55455"
      ]
     },
     "execution_count": 5,
     "metadata": {},
     "output_type": "execute_result"
    }
   ],
   "source": [
    "users[:5]"
   ]
  },
  {
   "cell_type": "code",
   "execution_count": 6,
   "id": "87ed14db",
   "metadata": {},
   "outputs": [
    {
     "data": {
      "text/html": [
       "<div>\n",
       "<style scoped>\n",
       "    .dataframe tbody tr th:only-of-type {\n",
       "        vertical-align: middle;\n",
       "    }\n",
       "\n",
       "    .dataframe tbody tr th {\n",
       "        vertical-align: top;\n",
       "    }\n",
       "\n",
       "    .dataframe thead th {\n",
       "        text-align: right;\n",
       "    }\n",
       "</style>\n",
       "<table border=\"1\" class=\"dataframe\">\n",
       "  <thead>\n",
       "    <tr style=\"text-align: right;\">\n",
       "      <th></th>\n",
       "      <th>user_id</th>\n",
       "      <th>movie_id</th>\n",
       "      <th>rating</th>\n",
       "      <th>timestamp</th>\n",
       "    </tr>\n",
       "  </thead>\n",
       "  <tbody>\n",
       "    <tr>\n",
       "      <th>0</th>\n",
       "      <td>1</td>\n",
       "      <td>1193</td>\n",
       "      <td>5</td>\n",
       "      <td>978300760</td>\n",
       "    </tr>\n",
       "    <tr>\n",
       "      <th>1</th>\n",
       "      <td>1</td>\n",
       "      <td>661</td>\n",
       "      <td>3</td>\n",
       "      <td>978302109</td>\n",
       "    </tr>\n",
       "    <tr>\n",
       "      <th>2</th>\n",
       "      <td>1</td>\n",
       "      <td>914</td>\n",
       "      <td>3</td>\n",
       "      <td>978301968</td>\n",
       "    </tr>\n",
       "    <tr>\n",
       "      <th>3</th>\n",
       "      <td>1</td>\n",
       "      <td>3408</td>\n",
       "      <td>4</td>\n",
       "      <td>978300275</td>\n",
       "    </tr>\n",
       "    <tr>\n",
       "      <th>4</th>\n",
       "      <td>1</td>\n",
       "      <td>2355</td>\n",
       "      <td>5</td>\n",
       "      <td>978824291</td>\n",
       "    </tr>\n",
       "  </tbody>\n",
       "</table>\n",
       "</div>"
      ],
      "text/plain": [
       "   user_id  movie_id  rating  timestamp\n",
       "0        1      1193       5  978300760\n",
       "1        1       661       3  978302109\n",
       "2        1       914       3  978301968\n",
       "3        1      3408       4  978300275\n",
       "4        1      2355       5  978824291"
      ]
     },
     "execution_count": 6,
     "metadata": {},
     "output_type": "execute_result"
    }
   ],
   "source": [
    "ratings[:5]"
   ]
  },
  {
   "cell_type": "code",
   "execution_count": 7,
   "id": "72ffc08d",
   "metadata": {},
   "outputs": [
    {
     "data": {
      "text/html": [
       "<div>\n",
       "<style scoped>\n",
       "    .dataframe tbody tr th:only-of-type {\n",
       "        vertical-align: middle;\n",
       "    }\n",
       "\n",
       "    .dataframe tbody tr th {\n",
       "        vertical-align: top;\n",
       "    }\n",
       "\n",
       "    .dataframe thead th {\n",
       "        text-align: right;\n",
       "    }\n",
       "</style>\n",
       "<table border=\"1\" class=\"dataframe\">\n",
       "  <thead>\n",
       "    <tr style=\"text-align: right;\">\n",
       "      <th></th>\n",
       "      <th>movie_id</th>\n",
       "      <th>title</th>\n",
       "      <th>genres</th>\n",
       "    </tr>\n",
       "  </thead>\n",
       "  <tbody>\n",
       "    <tr>\n",
       "      <th>0</th>\n",
       "      <td>3183</td>\n",
       "      <td>Third Miracle, The (1999)</td>\n",
       "      <td>Drama</td>\n",
       "    </tr>\n",
       "    <tr>\n",
       "      <th>1</th>\n",
       "      <td>3184</td>\n",
       "      <td>Montana (1998)</td>\n",
       "      <td>Action|Comedy|Crime|Drama</td>\n",
       "    </tr>\n",
       "    <tr>\n",
       "      <th>2</th>\n",
       "      <td>3185</td>\n",
       "      <td>Snow Falling on Cedars (1999)</td>\n",
       "      <td>Drama</td>\n",
       "    </tr>\n",
       "    <tr>\n",
       "      <th>3</th>\n",
       "      <td>3186</td>\n",
       "      <td>Girl, Interrupted (1999)</td>\n",
       "      <td>Drama</td>\n",
       "    </tr>\n",
       "    <tr>\n",
       "      <th>4</th>\n",
       "      <td>3187</td>\n",
       "      <td>Trans (1998)</td>\n",
       "      <td>Drama</td>\n",
       "    </tr>\n",
       "  </tbody>\n",
       "</table>\n",
       "</div>"
      ],
      "text/plain": [
       "   movie_id                          title                     genres\n",
       "0      3183      Third Miracle, The (1999)                      Drama\n",
       "1      3184                 Montana (1998)  Action|Comedy|Crime|Drama\n",
       "2      3185  Snow Falling on Cedars (1999)                      Drama\n",
       "3      3186       Girl, Interrupted (1999)                      Drama\n",
       "4      3187                   Trans (1998)                      Drama"
      ]
     },
     "execution_count": 7,
     "metadata": {},
     "output_type": "execute_result"
    }
   ],
   "source": [
    "movies[:5]"
   ]
  },
  {
   "cell_type": "markdown",
   "id": "94694e97",
   "metadata": {},
   "source": [
    "Suppose we want to compute mean ratings for a particular movie by sex age."
   ]
  },
  {
   "cell_type": "code",
   "execution_count": 8,
   "id": "30fe1391",
   "metadata": {},
   "outputs": [],
   "source": [
    "data = pd.merge(pd.merge(ratings, users), movies)"
   ]
  },
  {
   "cell_type": "code",
   "execution_count": 9,
   "id": "fa731208",
   "metadata": {},
   "outputs": [
    {
     "data": {
      "text/html": [
       "<div>\n",
       "<style scoped>\n",
       "    .dataframe tbody tr th:only-of-type {\n",
       "        vertical-align: middle;\n",
       "    }\n",
       "\n",
       "    .dataframe tbody tr th {\n",
       "        vertical-align: top;\n",
       "    }\n",
       "\n",
       "    .dataframe thead th {\n",
       "        text-align: right;\n",
       "    }\n",
       "</style>\n",
       "<table border=\"1\" class=\"dataframe\">\n",
       "  <thead>\n",
       "    <tr style=\"text-align: right;\">\n",
       "      <th></th>\n",
       "      <th>user_id</th>\n",
       "      <th>movie_id</th>\n",
       "      <th>rating</th>\n",
       "      <th>timestamp</th>\n",
       "      <th>gender</th>\n",
       "      <th>age</th>\n",
       "      <th>occupation</th>\n",
       "      <th>zip</th>\n",
       "      <th>title</th>\n",
       "      <th>genres</th>\n",
       "    </tr>\n",
       "  </thead>\n",
       "  <tbody>\n",
       "    <tr>\n",
       "      <th>0</th>\n",
       "      <td>1</td>\n",
       "      <td>3408</td>\n",
       "      <td>4</td>\n",
       "      <td>978300275</td>\n",
       "      <td>F</td>\n",
       "      <td>1</td>\n",
       "      <td>10</td>\n",
       "      <td>48067</td>\n",
       "      <td>Erin Brockovich (2000)</td>\n",
       "      <td>Drama</td>\n",
       "    </tr>\n",
       "    <tr>\n",
       "      <th>1</th>\n",
       "      <td>5</td>\n",
       "      <td>3408</td>\n",
       "      <td>3</td>\n",
       "      <td>978242323</td>\n",
       "      <td>M</td>\n",
       "      <td>25</td>\n",
       "      <td>20</td>\n",
       "      <td>55455</td>\n",
       "      <td>Erin Brockovich (2000)</td>\n",
       "      <td>Drama</td>\n",
       "    </tr>\n",
       "    <tr>\n",
       "      <th>2</th>\n",
       "      <td>6</td>\n",
       "      <td>3408</td>\n",
       "      <td>5</td>\n",
       "      <td>978238230</td>\n",
       "      <td>F</td>\n",
       "      <td>50</td>\n",
       "      <td>9</td>\n",
       "      <td>55117</td>\n",
       "      <td>Erin Brockovich (2000)</td>\n",
       "      <td>Drama</td>\n",
       "    </tr>\n",
       "    <tr>\n",
       "      <th>3</th>\n",
       "      <td>9</td>\n",
       "      <td>3408</td>\n",
       "      <td>4</td>\n",
       "      <td>978225570</td>\n",
       "      <td>M</td>\n",
       "      <td>25</td>\n",
       "      <td>17</td>\n",
       "      <td>61614</td>\n",
       "      <td>Erin Brockovich (2000)</td>\n",
       "      <td>Drama</td>\n",
       "    </tr>\n",
       "    <tr>\n",
       "      <th>4</th>\n",
       "      <td>10</td>\n",
       "      <td>3408</td>\n",
       "      <td>4</td>\n",
       "      <td>978225070</td>\n",
       "      <td>F</td>\n",
       "      <td>35</td>\n",
       "      <td>1</td>\n",
       "      <td>95370</td>\n",
       "      <td>Erin Brockovich (2000)</td>\n",
       "      <td>Drama</td>\n",
       "    </tr>\n",
       "    <tr>\n",
       "      <th>...</th>\n",
       "      <td>...</td>\n",
       "      <td>...</td>\n",
       "      <td>...</td>\n",
       "      <td>...</td>\n",
       "      <td>...</td>\n",
       "      <td>...</td>\n",
       "      <td>...</td>\n",
       "      <td>...</td>\n",
       "      <td>...</td>\n",
       "      <td>...</td>\n",
       "    </tr>\n",
       "    <tr>\n",
       "      <th>146852</th>\n",
       "      <td>5313</td>\n",
       "      <td>3656</td>\n",
       "      <td>5</td>\n",
       "      <td>960920392</td>\n",
       "      <td>M</td>\n",
       "      <td>56</td>\n",
       "      <td>0</td>\n",
       "      <td>55406</td>\n",
       "      <td>Lured (1947)</td>\n",
       "      <td>Crime</td>\n",
       "    </tr>\n",
       "    <tr>\n",
       "      <th>146853</th>\n",
       "      <td>5334</td>\n",
       "      <td>3323</td>\n",
       "      <td>3</td>\n",
       "      <td>960796159</td>\n",
       "      <td>F</td>\n",
       "      <td>56</td>\n",
       "      <td>13</td>\n",
       "      <td>46140</td>\n",
       "      <td>Chain of Fools (2000)</td>\n",
       "      <td>Comedy|Crime</td>\n",
       "    </tr>\n",
       "    <tr>\n",
       "      <th>146854</th>\n",
       "      <td>5334</td>\n",
       "      <td>3382</td>\n",
       "      <td>5</td>\n",
       "      <td>960796159</td>\n",
       "      <td>F</td>\n",
       "      <td>56</td>\n",
       "      <td>13</td>\n",
       "      <td>46140</td>\n",
       "      <td>Song of Freedom (1936)</td>\n",
       "      <td>Drama</td>\n",
       "    </tr>\n",
       "    <tr>\n",
       "      <th>146855</th>\n",
       "      <td>5494</td>\n",
       "      <td>3530</td>\n",
       "      <td>4</td>\n",
       "      <td>959816296</td>\n",
       "      <td>F</td>\n",
       "      <td>35</td>\n",
       "      <td>17</td>\n",
       "      <td>94306</td>\n",
       "      <td>Smoking/No Smoking (1993)</td>\n",
       "      <td>Comedy</td>\n",
       "    </tr>\n",
       "    <tr>\n",
       "      <th>146856</th>\n",
       "      <td>5851</td>\n",
       "      <td>3607</td>\n",
       "      <td>5</td>\n",
       "      <td>957756608</td>\n",
       "      <td>F</td>\n",
       "      <td>18</td>\n",
       "      <td>20</td>\n",
       "      <td>55410</td>\n",
       "      <td>One Little Indian (1973)</td>\n",
       "      <td>Comedy|Drama|Western</td>\n",
       "    </tr>\n",
       "  </tbody>\n",
       "</table>\n",
       "<p>146857 rows × 10 columns</p>\n",
       "</div>"
      ],
      "text/plain": [
       "        user_id  movie_id  rating  timestamp gender  age  occupation    zip  \\\n",
       "0             1      3408       4  978300275      F    1          10  48067   \n",
       "1             5      3408       3  978242323      M   25          20  55455   \n",
       "2             6      3408       5  978238230      F   50           9  55117   \n",
       "3             9      3408       4  978225570      M   25          17  61614   \n",
       "4            10      3408       4  978225070      F   35           1  95370   \n",
       "...         ...       ...     ...        ...    ...  ...         ...    ...   \n",
       "146852     5313      3656       5  960920392      M   56           0  55406   \n",
       "146853     5334      3323       3  960796159      F   56          13  46140   \n",
       "146854     5334      3382       5  960796159      F   56          13  46140   \n",
       "146855     5494      3530       4  959816296      F   35          17  94306   \n",
       "146856     5851      3607       5  957756608      F   18          20  55410   \n",
       "\n",
       "                            title                genres  \n",
       "0          Erin Brockovich (2000)                 Drama  \n",
       "1          Erin Brockovich (2000)                 Drama  \n",
       "2          Erin Brockovich (2000)                 Drama  \n",
       "3          Erin Brockovich (2000)                 Drama  \n",
       "4          Erin Brockovich (2000)                 Drama  \n",
       "...                           ...                   ...  \n",
       "146852               Lured (1947)                 Crime  \n",
       "146853      Chain of Fools (2000)          Comedy|Crime  \n",
       "146854     Song of Freedom (1936)                 Drama  \n",
       "146855  Smoking/No Smoking (1993)                Comedy  \n",
       "146856   One Little Indian (1973)  Comedy|Drama|Western  \n",
       "\n",
       "[146857 rows x 10 columns]"
      ]
     },
     "execution_count": 9,
     "metadata": {},
     "output_type": "execute_result"
    }
   ],
   "source": [
    "data"
   ]
  },
  {
   "cell_type": "code",
   "execution_count": 10,
   "id": "94671728",
   "metadata": {},
   "outputs": [],
   "source": [
    "mean_ratings = data.pivot_table('rating', index='title', columns='gender', aggfunc='mean')"
   ]
  },
  {
   "cell_type": "code",
   "execution_count": 11,
   "id": "1a358f61",
   "metadata": {},
   "outputs": [
    {
     "data": {
      "text/html": [
       "<div>\n",
       "<style scoped>\n",
       "    .dataframe tbody tr th:only-of-type {\n",
       "        vertical-align: middle;\n",
       "    }\n",
       "\n",
       "    .dataframe tbody tr th {\n",
       "        vertical-align: top;\n",
       "    }\n",
       "\n",
       "    .dataframe thead th {\n",
       "        text-align: right;\n",
       "    }\n",
       "</style>\n",
       "<table border=\"1\" class=\"dataframe\">\n",
       "  <thead>\n",
       "    <tr style=\"text-align: right;\">\n",
       "      <th>gender</th>\n",
       "      <th>F</th>\n",
       "      <th>M</th>\n",
       "    </tr>\n",
       "    <tr>\n",
       "      <th>title</th>\n",
       "      <th></th>\n",
       "      <th></th>\n",
       "    </tr>\n",
       "  </thead>\n",
       "  <tbody>\n",
       "    <tr>\n",
       "      <th>...And Justice for All (1979)</th>\n",
       "      <td>3.828571</td>\n",
       "      <td>3.689024</td>\n",
       "    </tr>\n",
       "    <tr>\n",
       "      <th>28 Days (2000)</th>\n",
       "      <td>3.209424</td>\n",
       "      <td>2.977707</td>\n",
       "    </tr>\n",
       "    <tr>\n",
       "      <th>3 Strikes (2000)</th>\n",
       "      <td>NaN</td>\n",
       "      <td>2.750000</td>\n",
       "    </tr>\n",
       "    <tr>\n",
       "      <th>8 1/2 Women (1999)</th>\n",
       "      <td>2.857143</td>\n",
       "      <td>2.404762</td>\n",
       "    </tr>\n",
       "    <tr>\n",
       "      <th>Abbott and Costello Meet Frankenstein (1948)</th>\n",
       "      <td>3.365854</td>\n",
       "      <td>3.460606</td>\n",
       "    </tr>\n",
       "    <tr>\n",
       "      <th>...</th>\n",
       "      <td>...</td>\n",
       "      <td>...</td>\n",
       "    </tr>\n",
       "    <tr>\n",
       "      <th>X-Men (2000)</th>\n",
       "      <td>3.682310</td>\n",
       "      <td>3.851702</td>\n",
       "    </tr>\n",
       "    <tr>\n",
       "      <th>X: The Unknown (1956)</th>\n",
       "      <td>2.250000</td>\n",
       "      <td>3.125000</td>\n",
       "    </tr>\n",
       "    <tr>\n",
       "      <th>Year My Voice Broke, The (1987)</th>\n",
       "      <td>4.000000</td>\n",
       "      <td>3.705882</td>\n",
       "    </tr>\n",
       "    <tr>\n",
       "      <th>Zachariah (1971)</th>\n",
       "      <td>NaN</td>\n",
       "      <td>3.500000</td>\n",
       "    </tr>\n",
       "    <tr>\n",
       "      <th>Zed &amp; Two Noughts, A (1985)</th>\n",
       "      <td>3.500000</td>\n",
       "      <td>3.380952</td>\n",
       "    </tr>\n",
       "  </tbody>\n",
       "</table>\n",
       "<p>740 rows × 2 columns</p>\n",
       "</div>"
      ],
      "text/plain": [
       "gender                                               F         M\n",
       "title                                                           \n",
       "...And Justice for All (1979)                 3.828571  3.689024\n",
       "28 Days (2000)                                3.209424  2.977707\n",
       "3 Strikes (2000)                                   NaN  2.750000\n",
       "8 1/2 Women (1999)                            2.857143  2.404762\n",
       "Abbott and Costello Meet Frankenstein (1948)  3.365854  3.460606\n",
       "...                                                ...       ...\n",
       "X-Men (2000)                                  3.682310  3.851702\n",
       "X: The Unknown (1956)                         2.250000  3.125000\n",
       "Year My Voice Broke, The (1987)               4.000000  3.705882\n",
       "Zachariah (1971)                                   NaN  3.500000\n",
       "Zed & Two Noughts, A (1985)                   3.500000  3.380952\n",
       "\n",
       "[740 rows x 2 columns]"
      ]
     },
     "execution_count": 11,
     "metadata": {},
     "output_type": "execute_result"
    }
   ],
   "source": [
    "mean_ratings"
   ]
  },
  {
   "cell_type": "markdown",
   "id": "3cd41b8d",
   "metadata": {},
   "source": [
    "Now, I will filter down to movies that received atleast 250 ratings:"
   ]
  },
  {
   "cell_type": "code",
   "execution_count": 12,
   "id": "a7dcfef8",
   "metadata": {},
   "outputs": [],
   "source": [
    "ratings_by_title = data.groupby('title').size()"
   ]
  },
  {
   "cell_type": "code",
   "execution_count": 13,
   "id": "2c2c73e5",
   "metadata": {},
   "outputs": [
    {
     "data": {
      "text/plain": [
       "title\n",
       "...And Justice for All (1979)                    199\n",
       "28 Days (2000)                                   505\n",
       "3 Strikes (2000)                                   4\n",
       "8 1/2 Women (1999)                                49\n",
       "Abbott and Costello Meet Frankenstein (1948)     206\n",
       "                                                ... \n",
       "X-Men (2000)                                    1511\n",
       "X: The Unknown (1956)                             12\n",
       "Year My Voice Broke, The (1987)                   27\n",
       "Zachariah (1971)                                   2\n",
       "Zed & Two Noughts, A (1985)                       29\n",
       "Length: 740, dtype: int64"
      ]
     },
     "execution_count": 13,
     "metadata": {},
     "output_type": "execute_result"
    }
   ],
   "source": [
    "ratings_by_title"
   ]
  },
  {
   "cell_type": "code",
   "execution_count": 14,
   "id": "cf7c2980",
   "metadata": {},
   "outputs": [],
   "source": [
    "active_titles = ratings_by_title.index[ratings_by_title >= 250]"
   ]
  },
  {
   "cell_type": "code",
   "execution_count": 15,
   "id": "577553ee",
   "metadata": {},
   "outputs": [
    {
     "data": {
      "text/plain": [
       "Index(['28 Days (2000)', 'Agnes of God (1985)', 'Air America (1990)',\n",
       "       'Alien Nation (1988)', 'Alive (1993)', 'Almost Famous (2000)',\n",
       "       'American Gigolo (1980)', 'American Graffiti (1973)',\n",
       "       'American Psycho (2000)', 'Angel Heart (1987)',\n",
       "       ...\n",
       "       'Wayne's World 2 (1993)', 'What About Bob? (1991)',\n",
       "       'What Lies Beneath (2000)', 'Where Eagles Dare (1969)',\n",
       "       'Where the Heart Is (2000)', 'White Christmas (1954)',\n",
       "       'White Men Can't Jump (1992)', 'Whole Nine Yards, The (2000)',\n",
       "       'Wonder Boys (2000)', 'X-Men (2000)'],\n",
       "      dtype='object', name='title', length=198)"
      ]
     },
     "execution_count": 15,
     "metadata": {},
     "output_type": "execute_result"
    }
   ],
   "source": [
    "active_titles"
   ]
  },
  {
   "cell_type": "markdown",
   "id": "98a2059b",
   "metadata": {},
   "source": [
    "Now, we can use index of titles receiving atleast 250ratings to select rows from mean_ratings:"
   ]
  },
  {
   "cell_type": "code",
   "execution_count": 16,
   "id": "3e38eded",
   "metadata": {},
   "outputs": [],
   "source": [
    "mean_ratings = mean_ratings.loc[active_titles]"
   ]
  },
  {
   "cell_type": "code",
   "execution_count": 17,
   "id": "cb05d811",
   "metadata": {},
   "outputs": [
    {
     "data": {
      "text/html": [
       "<div>\n",
       "<style scoped>\n",
       "    .dataframe tbody tr th:only-of-type {\n",
       "        vertical-align: middle;\n",
       "    }\n",
       "\n",
       "    .dataframe tbody tr th {\n",
       "        vertical-align: top;\n",
       "    }\n",
       "\n",
       "    .dataframe thead th {\n",
       "        text-align: right;\n",
       "    }\n",
       "</style>\n",
       "<table border=\"1\" class=\"dataframe\">\n",
       "  <thead>\n",
       "    <tr style=\"text-align: right;\">\n",
       "      <th>gender</th>\n",
       "      <th>F</th>\n",
       "      <th>M</th>\n",
       "    </tr>\n",
       "    <tr>\n",
       "      <th>title</th>\n",
       "      <th></th>\n",
       "      <th></th>\n",
       "    </tr>\n",
       "  </thead>\n",
       "  <tbody>\n",
       "    <tr>\n",
       "      <th>28 Days (2000)</th>\n",
       "      <td>3.209424</td>\n",
       "      <td>2.977707</td>\n",
       "    </tr>\n",
       "    <tr>\n",
       "      <th>Agnes of God (1985)</th>\n",
       "      <td>3.534884</td>\n",
       "      <td>3.244898</td>\n",
       "    </tr>\n",
       "    <tr>\n",
       "      <th>Air America (1990)</th>\n",
       "      <td>2.823529</td>\n",
       "      <td>2.741176</td>\n",
       "    </tr>\n",
       "    <tr>\n",
       "      <th>Alien Nation (1988)</th>\n",
       "      <td>3.433333</td>\n",
       "      <td>3.195946</td>\n",
       "    </tr>\n",
       "    <tr>\n",
       "      <th>Alive (1993)</th>\n",
       "      <td>3.469388</td>\n",
       "      <td>3.376866</td>\n",
       "    </tr>\n",
       "    <tr>\n",
       "      <th>...</th>\n",
       "      <td>...</td>\n",
       "      <td>...</td>\n",
       "    </tr>\n",
       "    <tr>\n",
       "      <th>White Christmas (1954)</th>\n",
       "      <td>3.990196</td>\n",
       "      <td>3.727811</td>\n",
       "    </tr>\n",
       "    <tr>\n",
       "      <th>White Men Can't Jump (1992)</th>\n",
       "      <td>3.028777</td>\n",
       "      <td>3.231061</td>\n",
       "    </tr>\n",
       "    <tr>\n",
       "      <th>Whole Nine Yards, The (2000)</th>\n",
       "      <td>3.296552</td>\n",
       "      <td>3.404814</td>\n",
       "    </tr>\n",
       "    <tr>\n",
       "      <th>Wonder Boys (2000)</th>\n",
       "      <td>4.043796</td>\n",
       "      <td>3.913649</td>\n",
       "    </tr>\n",
       "    <tr>\n",
       "      <th>X-Men (2000)</th>\n",
       "      <td>3.682310</td>\n",
       "      <td>3.851702</td>\n",
       "    </tr>\n",
       "  </tbody>\n",
       "</table>\n",
       "<p>198 rows × 2 columns</p>\n",
       "</div>"
      ],
      "text/plain": [
       "gender                               F         M\n",
       "title                                           \n",
       "28 Days (2000)                3.209424  2.977707\n",
       "Agnes of God (1985)           3.534884  3.244898\n",
       "Air America (1990)            2.823529  2.741176\n",
       "Alien Nation (1988)           3.433333  3.195946\n",
       "Alive (1993)                  3.469388  3.376866\n",
       "...                                ...       ...\n",
       "White Christmas (1954)        3.990196  3.727811\n",
       "White Men Can't Jump (1992)   3.028777  3.231061\n",
       "Whole Nine Yards, The (2000)  3.296552  3.404814\n",
       "Wonder Boys (2000)            4.043796  3.913649\n",
       "X-Men (2000)                  3.682310  3.851702\n",
       "\n",
       "[198 rows x 2 columns]"
      ]
     },
     "execution_count": 17,
     "metadata": {},
     "output_type": "execute_result"
    }
   ],
   "source": [
    "mean_ratings"
   ]
  },
  {
   "cell_type": "markdown",
   "id": "022b9cd8",
   "metadata": {},
   "source": [
    "Now, we can see the top films among female viewars;"
   ]
  },
  {
   "cell_type": "code",
   "execution_count": 18,
   "id": "5c241be6",
   "metadata": {},
   "outputs": [],
   "source": [
    "top_female_ratings = mean_ratings.sort_values(by='F', ascending=False)"
   ]
  },
  {
   "cell_type": "code",
   "execution_count": 19,
   "id": "ccb04421",
   "metadata": {},
   "outputs": [
    {
     "data": {
      "text/html": [
       "<div>\n",
       "<style scoped>\n",
       "    .dataframe tbody tr th:only-of-type {\n",
       "        vertical-align: middle;\n",
       "    }\n",
       "\n",
       "    .dataframe tbody tr th {\n",
       "        vertical-align: top;\n",
       "    }\n",
       "\n",
       "    .dataframe thead th {\n",
       "        text-align: right;\n",
       "    }\n",
       "</style>\n",
       "<table border=\"1\" class=\"dataframe\">\n",
       "  <thead>\n",
       "    <tr style=\"text-align: right;\">\n",
       "      <th>gender</th>\n",
       "      <th>F</th>\n",
       "      <th>M</th>\n",
       "    </tr>\n",
       "    <tr>\n",
       "      <th>title</th>\n",
       "      <th></th>\n",
       "      <th></th>\n",
       "    </tr>\n",
       "  </thead>\n",
       "  <tbody>\n",
       "    <tr>\n",
       "      <th>Creature Comforts (1990)</th>\n",
       "      <td>4.513889</td>\n",
       "      <td>4.272277</td>\n",
       "    </tr>\n",
       "    <tr>\n",
       "      <th>City Lights (1931)</th>\n",
       "      <td>4.452055</td>\n",
       "      <td>4.363636</td>\n",
       "    </tr>\n",
       "    <tr>\n",
       "      <th>Double Indemnity (1944)</th>\n",
       "      <td>4.282051</td>\n",
       "      <td>4.468354</td>\n",
       "    </tr>\n",
       "    <tr>\n",
       "      <th>Hard-Boiled (Lashou shentan) (1992)</th>\n",
       "      <td>4.259259</td>\n",
       "      <td>4.126667</td>\n",
       "    </tr>\n",
       "    <tr>\n",
       "      <th>Modern Times (1936)</th>\n",
       "      <td>4.227273</td>\n",
       "      <td>4.238494</td>\n",
       "    </tr>\n",
       "    <tr>\n",
       "      <th>...</th>\n",
       "      <td>...</td>\n",
       "      <td>...</td>\n",
       "    </tr>\n",
       "    <tr>\n",
       "      <th>Hollow Man (2000)</th>\n",
       "      <td>2.382716</td>\n",
       "      <td>2.577160</td>\n",
       "    </tr>\n",
       "    <tr>\n",
       "      <th>Porky's (1981)</th>\n",
       "      <td>2.296875</td>\n",
       "      <td>2.836364</td>\n",
       "    </tr>\n",
       "    <tr>\n",
       "      <th>Eye of the Beholder (1999)</th>\n",
       "      <td>2.181818</td>\n",
       "      <td>2.115789</td>\n",
       "    </tr>\n",
       "    <tr>\n",
       "      <th>Teenage Mutant Ninja Turtles II: The Secret of the Ooze (1991)</th>\n",
       "      <td>2.152174</td>\n",
       "      <td>2.121951</td>\n",
       "    </tr>\n",
       "    <tr>\n",
       "      <th>Battlefield Earth (2000)</th>\n",
       "      <td>1.574468</td>\n",
       "      <td>1.616949</td>\n",
       "    </tr>\n",
       "  </tbody>\n",
       "</table>\n",
       "<p>198 rows × 2 columns</p>\n",
       "</div>"
      ],
      "text/plain": [
       "gender                                                     F         M\n",
       "title                                                                 \n",
       "Creature Comforts (1990)                            4.513889  4.272277\n",
       "City Lights (1931)                                  4.452055  4.363636\n",
       "Double Indemnity (1944)                             4.282051  4.468354\n",
       "Hard-Boiled (Lashou shentan) (1992)                 4.259259  4.126667\n",
       "Modern Times (1936)                                 4.227273  4.238494\n",
       "...                                                      ...       ...\n",
       "Hollow Man (2000)                                   2.382716  2.577160\n",
       "Porky's (1981)                                      2.296875  2.836364\n",
       "Eye of the Beholder (1999)                          2.181818  2.115789\n",
       "Teenage Mutant Ninja Turtles II: The Secret of ...  2.152174  2.121951\n",
       "Battlefield Earth (2000)                            1.574468  1.616949\n",
       "\n",
       "[198 rows x 2 columns]"
      ]
     },
     "execution_count": 19,
     "metadata": {},
     "output_type": "execute_result"
    }
   ],
   "source": [
    "top_female_ratings"
   ]
  },
  {
   "cell_type": "code",
   "execution_count": 20,
   "id": "1de8782c",
   "metadata": {},
   "outputs": [
    {
     "data": {
      "text/plain": [
       "title\n",
       "Creature Comforts (1990)                                          4.513889\n",
       "City Lights (1931)                                                4.452055\n",
       "Double Indemnity (1944)                                           4.282051\n",
       "Hard-Boiled (Lashou shentan) (1992)                               4.259259\n",
       "Modern Times (1936)                                               4.227273\n",
       "                                                                    ...   \n",
       "Hollow Man (2000)                                                 2.382716\n",
       "Porky's (1981)                                                    2.296875\n",
       "Eye of the Beholder (1999)                                        2.181818\n",
       "Teenage Mutant Ninja Turtles II: The Secret of the Ooze (1991)    2.152174\n",
       "Battlefield Earth (2000)                                          1.574468\n",
       "Name: F, Length: 198, dtype: float64"
      ]
     },
     "execution_count": 20,
     "metadata": {},
     "output_type": "execute_result"
    }
   ],
   "source": [
    "performance = top_female_ratings['F']\n",
    "subset = performance[:20]\n",
    "y = subset.index\n",
    "\n",
    "x = subset.values\n",
    "\n",
    "\n",
    "performance\n",
    "\n"
   ]
  },
  {
   "cell_type": "code",
   "execution_count": 21,
   "id": "fd4d8ec3",
   "metadata": {},
   "outputs": [
    {
     "data": {
      "text/plain": [
       "Text(0, 0.5, 'Top Movies Among Female viewars')"
      ]
     },
     "execution_count": 21,
     "metadata": {},
     "output_type": "execute_result"
    },
    {
     "data": {
      "image/png": "[encoded data removed]",
      "text/plain": [
       "<Figure size 640x480 with 1 Axes>"
      ]
     },
     "metadata": {},
     "output_type": "display_data"
    }
   ],
   "source": [
    "#import seaborn as sns; sns.set()\n",
    "\n",
    "\n",
    "import matplotlib.pyplot as plt; plt.rcdefaults()\n",
    "import matplotlib.pyplot as plt\n",
    "plt.barh(y, x)\n",
    "\n",
    "plt.xlabel('Mean Rating')\n",
    "plt.ylabel('Top Movies Among Female viewars')\n"
   ]
  },
  {
   "cell_type": "markdown",
   "id": "fb257f7f",
   "metadata": {},
   "source": [
    "From here we can see that the movie \"Creature Comforts(1990)\" is the top movie among female, followed by \"City Lights(1931)\" and so on and so forth. "
   ]
  },
  {
   "cell_type": "raw",
   "id": "bbe383ed",
   "metadata": {},
   "source": [
    "Now, we will consider top movies among Males."
   ]
  },
  {
   "cell_type": "code",
   "execution_count": 22,
   "id": "40ab9af5",
   "metadata": {},
   "outputs": [
    {
     "data": {
      "text/plain": [
       "title\n",
       "Double Indemnity (1944)                                           4.468354\n",
       "City Lights (1931)                                                4.363636\n",
       "Inherit the Wind (1960)                                           4.331606\n",
       "Hustler, The (1961)                                               4.274667\n",
       "Creature Comforts (1990)                                          4.272277\n",
       "                                                                    ...   \n",
       "Encino Man (1992)                                                 2.488789\n",
       "Freejack (1992)                                                   2.416667\n",
       "Teenage Mutant Ninja Turtles II: The Secret of the Ooze (1991)    2.121951\n",
       "Eye of the Beholder (1999)                                        2.115789\n",
       "Battlefield Earth (2000)                                          1.616949\n",
       "Name: M, Length: 198, dtype: float64"
      ]
     },
     "execution_count": 22,
     "metadata": {},
     "output_type": "execute_result"
    }
   ],
   "source": [
    "top_male_ratings = mean_ratings.sort_values(by='M', ascending=False)\n",
    "performance = top_male_ratings['M']\n",
    "subset = performance[:20]\n",
    "a = subset.index\n",
    "\n",
    "b = subset.values\n",
    "\n",
    "\n",
    "performance"
   ]
  },
  {
   "cell_type": "code",
   "execution_count": 23,
   "id": "4eefcf38",
   "metadata": {},
   "outputs": [
    {
     "data": {
      "text/plain": [
       "Text(0, 0.5, 'Top Movies Among Male viewars')"
      ]
     },
     "execution_count": 23,
     "metadata": {},
     "output_type": "execute_result"
    },
    {
     "data": {
      "image/png": "[encoded data removed]",
      "text/plain": [
       "<Figure size 640x480 with 1 Axes>"
      ]
     },
     "metadata": {},
     "output_type": "display_data"
    }
   ],
   "source": [
    "plt.barh(a, b)\n",
    "\n",
    "plt.xlabel('Mean Rating')\n",
    "plt.ylabel('Top Movies Among Male viewars')"
   ]
  },
  {
   "cell_type": "markdown",
   "id": "48ca533d",
   "metadata": {},
   "source": [
    "From here we can see that the movie \"Double Indemnity(1944)\" is the top movie among male, followed by \"City Lights(1931)\" and so on and so forth. This analysis shows that \"City Lights\" remains the second among both females and males. "
   ]
  },
  {
   "cell_type": "markdown",
   "id": "a1b7f4d5",
   "metadata": {},
   "source": [
    "# (2) Measuring Rating Disagreement"
   ]
  },
  {
   "cell_type": "markdown",
   "id": "3321e0bc",
   "metadata": {},
   "source": [
    "Now we will find the movies that are most divisive between male and female viewars."
   ]
  },
  {
   "cell_type": "code",
   "execution_count": 24,
   "id": "3b352643",
   "metadata": {},
   "outputs": [],
   "source": [
    "mean_ratings['diff'] = mean_ratings['M'] - mean_ratings['F']"
   ]
  },
  {
   "cell_type": "markdown",
   "id": "69bdc22a",
   "metadata": {},
   "source": [
    "Sorting by 'diff' yields the movies with the greatest rating difference so that we can see which ones were preferred by women:"
   ]
  },
  {
   "cell_type": "code",
   "execution_count": 25,
   "id": "016b5ad9",
   "metadata": {},
   "outputs": [
    {
     "data": {
      "text/html": [
       "<div>\n",
       "<style scoped>\n",
       "    .dataframe tbody tr th:only-of-type {\n",
       "        vertical-align: middle;\n",
       "    }\n",
       "\n",
       "    .dataframe tbody tr th {\n",
       "        vertical-align: top;\n",
       "    }\n",
       "\n",
       "    .dataframe thead th {\n",
       "        text-align: right;\n",
       "    }\n",
       "</style>\n",
       "<table border=\"1\" class=\"dataframe\">\n",
       "  <thead>\n",
       "    <tr style=\"text-align: right;\">\n",
       "      <th>gender</th>\n",
       "      <th>F</th>\n",
       "      <th>M</th>\n",
       "      <th>diff</th>\n",
       "    </tr>\n",
       "    <tr>\n",
       "      <th>title</th>\n",
       "      <th></th>\n",
       "      <th></th>\n",
       "      <th></th>\n",
       "    </tr>\n",
       "  </thead>\n",
       "  <tbody>\n",
       "    <tr>\n",
       "      <th>Steel Magnolias (1989)</th>\n",
       "      <td>3.901734</td>\n",
       "      <td>3.365957</td>\n",
       "      <td>-0.535777</td>\n",
       "    </tr>\n",
       "    <tr>\n",
       "      <th>Guys and Dolls (1955)</th>\n",
       "      <td>4.051724</td>\n",
       "      <td>3.583333</td>\n",
       "      <td>-0.468391</td>\n",
       "    </tr>\n",
       "    <tr>\n",
       "      <th>Skulls, The (2000)</th>\n",
       "      <td>3.053333</td>\n",
       "      <td>2.621145</td>\n",
       "      <td>-0.432188</td>\n",
       "    </tr>\n",
       "    <tr>\n",
       "      <th>Muppets Take Manhattan, The (1984)</th>\n",
       "      <td>3.762376</td>\n",
       "      <td>3.395833</td>\n",
       "      <td>-0.366543</td>\n",
       "    </tr>\n",
       "    <tr>\n",
       "      <th>Footloose (1984)</th>\n",
       "      <td>3.311594</td>\n",
       "      <td>2.952862</td>\n",
       "      <td>-0.358732</td>\n",
       "    </tr>\n",
       "    <tr>\n",
       "      <th>Prince of Tides, The (1991)</th>\n",
       "      <td>3.347518</td>\n",
       "      <td>3.005556</td>\n",
       "      <td>-0.341962</td>\n",
       "    </tr>\n",
       "  </tbody>\n",
       "</table>\n",
       "</div>"
      ],
      "text/plain": [
       "gender                                     F         M      diff\n",
       "title                                                           \n",
       "Steel Magnolias (1989)              3.901734  3.365957 -0.535777\n",
       "Guys and Dolls (1955)               4.051724  3.583333 -0.468391\n",
       "Skulls, The (2000)                  3.053333  2.621145 -0.432188\n",
       "Muppets Take Manhattan, The (1984)  3.762376  3.395833 -0.366543\n",
       "Footloose (1984)                    3.311594  2.952862 -0.358732\n",
       "Prince of Tides, The (1991)         3.347518  3.005556 -0.341962"
      ]
     },
     "execution_count": 25,
     "metadata": {},
     "output_type": "execute_result"
    }
   ],
   "source": [
    "sorted_by_diff = mean_ratings.sort_values(by='diff')\n",
    "sorted_by_diff[:6]"
   ]
  },
  {
   "cell_type": "markdown",
   "id": "0db30c2b",
   "metadata": {},
   "source": [
    "Reversing the order of the rows and again slicing off the top 6 rows, we get the movies preferred by men that women didn't rate as highly:  "
   ]
  },
  {
   "cell_type": "code",
   "execution_count": 26,
   "id": "297295d3",
   "metadata": {},
   "outputs": [
    {
     "data": {
      "text/html": [
       "<div>\n",
       "<style scoped>\n",
       "    .dataframe tbody tr th:only-of-type {\n",
       "        vertical-align: middle;\n",
       "    }\n",
       "\n",
       "    .dataframe tbody tr th {\n",
       "        vertical-align: top;\n",
       "    }\n",
       "\n",
       "    .dataframe thead th {\n",
       "        text-align: right;\n",
       "    }\n",
       "</style>\n",
       "<table border=\"1\" class=\"dataframe\">\n",
       "  <thead>\n",
       "    <tr style=\"text-align: right;\">\n",
       "      <th>gender</th>\n",
       "      <th>F</th>\n",
       "      <th>M</th>\n",
       "      <th>diff</th>\n",
       "    </tr>\n",
       "    <tr>\n",
       "      <th>title</th>\n",
       "      <th></th>\n",
       "      <th></th>\n",
       "      <th></th>\n",
       "    </tr>\n",
       "  </thead>\n",
       "  <tbody>\n",
       "    <tr>\n",
       "      <th>Kentucky Fried Movie, The (1977)</th>\n",
       "      <td>2.878788</td>\n",
       "      <td>3.555147</td>\n",
       "      <td>0.676359</td>\n",
       "    </tr>\n",
       "    <tr>\n",
       "      <th>Hidden, The (1987)</th>\n",
       "      <td>3.137931</td>\n",
       "      <td>3.745098</td>\n",
       "      <td>0.607167</td>\n",
       "    </tr>\n",
       "    <tr>\n",
       "      <th>Caddyshack (1980)</th>\n",
       "      <td>3.396135</td>\n",
       "      <td>3.969737</td>\n",
       "      <td>0.573602</td>\n",
       "    </tr>\n",
       "    <tr>\n",
       "      <th>For a Few Dollars More (1965)</th>\n",
       "      <td>3.409091</td>\n",
       "      <td>3.953795</td>\n",
       "      <td>0.544704</td>\n",
       "    </tr>\n",
       "    <tr>\n",
       "      <th>Porky's (1981)</th>\n",
       "      <td>2.296875</td>\n",
       "      <td>2.836364</td>\n",
       "      <td>0.539489</td>\n",
       "    </tr>\n",
       "    <tr>\n",
       "      <th>Animal House (1978)</th>\n",
       "      <td>3.628906</td>\n",
       "      <td>4.167192</td>\n",
       "      <td>0.538286</td>\n",
       "    </tr>\n",
       "  </tbody>\n",
       "</table>\n",
       "</div>"
      ],
      "text/plain": [
       "gender                                   F         M      diff\n",
       "title                                                         \n",
       "Kentucky Fried Movie, The (1977)  2.878788  3.555147  0.676359\n",
       "Hidden, The (1987)                3.137931  3.745098  0.607167\n",
       "Caddyshack (1980)                 3.396135  3.969737  0.573602\n",
       "For a Few Dollars More (1965)     3.409091  3.953795  0.544704\n",
       "Porky's (1981)                    2.296875  2.836364  0.539489\n",
       "Animal House (1978)               3.628906  4.167192  0.538286"
      ]
     },
     "execution_count": 26,
     "metadata": {},
     "output_type": "execute_result"
    }
   ],
   "source": [
    "sorted_by_diff[::-1][:6]"
   ]
  },
  {
   "cell_type": "markdown",
   "id": "f71bfac4",
   "metadata": {},
   "source": [
    "Lastly, we find the movies that elicited the most disagreement among viewars, independent of gender identification:"
   ]
  },
  {
   "cell_type": "code",
   "execution_count": 27,
   "id": "ba23cf51",
   "metadata": {},
   "outputs": [
    {
     "data": {
      "text/plain": [
       "title\n",
       "28 Days (2000)                  0.920278\n",
       "Agnes of God (1985)             0.936249\n",
       "Air America (1990)              0.938463\n",
       "Alien Nation (1988)             0.915587\n",
       "Alive (1993)                    0.847169\n",
       "                                  ...   \n",
       "White Christmas (1954)          0.952285\n",
       "White Men Can't Jump (1992)     0.938178\n",
       "Whole Nine Yards, The (2000)    0.963258\n",
       "Wonder Boys (2000)              0.880473\n",
       "X-Men (2000)                    0.915067\n",
       "Name: rating, Length: 198, dtype: float64"
      ]
     },
     "execution_count": 27,
     "metadata": {},
     "output_type": "execute_result"
    }
   ],
   "source": [
    "rating_std_by_title = data.groupby('title')['rating'].std()\n",
    "rating_std_by_title = rating_std_by_title.loc[active_titles]\n",
    "rating_std_by_title"
   ]
  },
  {
   "cell_type": "code",
   "execution_count": 28,
   "id": "c825c610",
   "metadata": {},
   "outputs": [
    {
     "data": {
      "text/plain": [
       "title\n",
       "Hellraiser (1987)                 1.243046\n",
       "Scary Movie (2000)                1.224024\n",
       "American Psycho (2000)            1.190698\n",
       "Pee-wee's Big Adventure (1985)    1.185933\n",
       "Me, Myself and Irene (2000)       1.179733\n",
       "Skulls, The (2000)                1.161016\n",
       "Name: rating, dtype: float64"
      ]
     },
     "execution_count": 28,
     "metadata": {},
     "output_type": "execute_result"
    }
   ],
   "source": [
    "rating_std_by_title.sort_values(ascending=False)[:6]"
   ]
  },
  {
   "cell_type": "markdown",
   "id": "f71e4861",
   "metadata": {},
   "source": [
    "# (3) Most popular genres"
   ]
  },
  {
   "cell_type": "code",
   "execution_count": 29,
   "id": "c6ab5ede",
   "metadata": {},
   "outputs": [
    {
     "data": {
      "text/html": [
       "<div>\n",
       "<style scoped>\n",
       "    .dataframe tbody tr th:only-of-type {\n",
       "        vertical-align: middle;\n",
       "    }\n",
       "\n",
       "    .dataframe tbody tr th {\n",
       "        vertical-align: top;\n",
       "    }\n",
       "\n",
       "    .dataframe thead th {\n",
       "        text-align: right;\n",
       "    }\n",
       "</style>\n",
       "<table border=\"1\" class=\"dataframe\">\n",
       "  <thead>\n",
       "    <tr style=\"text-align: right;\">\n",
       "      <th></th>\n",
       "      <th>genres</th>\n",
       "      <th>rating</th>\n",
       "    </tr>\n",
       "  </thead>\n",
       "  <tbody>\n",
       "    <tr>\n",
       "      <th>51</th>\n",
       "      <td>Comedy</td>\n",
       "      <td>87061</td>\n",
       "    </tr>\n",
       "    <tr>\n",
       "      <th>76</th>\n",
       "      <td>Drama</td>\n",
       "      <td>61121</td>\n",
       "    </tr>\n",
       "    <tr>\n",
       "      <th>55</th>\n",
       "      <td>Comedy|Drama</td>\n",
       "      <td>39865</td>\n",
       "    </tr>\n",
       "    <tr>\n",
       "      <th>22</th>\n",
       "      <td>Action|Sci-Fi</td>\n",
       "      <td>20456</td>\n",
       "    </tr>\n",
       "    <tr>\n",
       "      <th>104</th>\n",
       "      <td>Thriller</td>\n",
       "      <td>16332</td>\n",
       "    </tr>\n",
       "    <tr>\n",
       "      <th>14</th>\n",
       "      <td>Action|Drama</td>\n",
       "      <td>15756</td>\n",
       "    </tr>\n",
       "    <tr>\n",
       "      <th>24</th>\n",
       "      <td>Action|Thriller</td>\n",
       "      <td>14311</td>\n",
       "    </tr>\n",
       "    <tr>\n",
       "      <th>65</th>\n",
       "      <td>Comedy|Romance</td>\n",
       "      <td>13280</td>\n",
       "    </tr>\n",
       "    <tr>\n",
       "      <th>0</th>\n",
       "      <td>Action</td>\n",
       "      <td>12918</td>\n",
       "    </tr>\n",
       "    <tr>\n",
       "      <th>85</th>\n",
       "      <td>Drama|Thriller</td>\n",
       "      <td>10681</td>\n",
       "    </tr>\n",
       "  </tbody>\n",
       "</table>\n",
       "</div>"
      ],
      "text/plain": [
       "              genres  rating\n",
       "51            Comedy   87061\n",
       "76             Drama   61121\n",
       "55      Comedy|Drama   39865\n",
       "22     Action|Sci-Fi   20456\n",
       "104         Thriller   16332\n",
       "14      Action|Drama   15756\n",
       "24   Action|Thriller   14311\n",
       "65    Comedy|Romance   13280\n",
       "0             Action   12918\n",
       "85    Drama|Thriller   10681"
      ]
     },
     "execution_count": 29,
     "metadata": {},
     "output_type": "execute_result"
    }
   ],
   "source": [
    "popular_genres = data[['genres', 'rating']].groupby('genres').sum().reset_index()\n",
    "popular_genres = popular_genres.sort_values('rating', ascending=False).head(n=10)\n",
    "popular_genres"
   ]
  },
  {
   "cell_type": "code",
   "execution_count": 30,
   "id": "b1239f43",
   "metadata": {},
   "outputs": [
    {
     "data": {
      "text/plain": [
       "Text(0.5, 0, 'Rating')"
      ]
     },
     "execution_count": 30,
     "metadata": {},
     "output_type": "execute_result"
    },
    {
     "data": {
      "image/png": "[encoded data removed]",
      "text/plain": [
       "<Figure size 640x480 with 1 Axes>"
      ]
     },
     "metadata": {},
     "output_type": "display_data"
    }
   ],
   "source": [
    "y = popular_genres['genres'].values\n",
    "x = popular_genres['rating'].values\n",
    "plt.barh(y, x)\n",
    "plt.ylabel('Popular Genres')\n",
    "plt.xlabel('Rating')"
   ]
  },
  {
   "cell_type": "markdown",
   "id": "9507a50c",
   "metadata": {},
   "source": [
    "We can see that Comedy is by far the most popular genres."
   ]
  },
  {
   "cell_type": "markdown",
   "id": "d46b6953",
   "metadata": {},
   "source": [
    "# (4) User vs. Movies Distribution"
   ]
  },
  {
   "cell_type": "code",
   "execution_count": 31,
   "id": "681c436a",
   "metadata": {},
   "outputs": [
    {
     "data": {
      "text/plain": [
       "count    5972.000000\n",
       "mean       24.590924\n",
       "std        30.624488\n",
       "min         1.000000\n",
       "25%         6.000000\n",
       "50%        14.000000\n",
       "75%        31.000000\n",
       "max       437.000000\n",
       "Name: title, dtype: float64"
      ]
     },
     "execution_count": 31,
     "metadata": {},
     "output_type": "execute_result"
    }
   ],
   "source": [
    "user_movie_rating_distribution = data[['user_id', 'title']].groupby('user_id').count().reset_index().sort_values(by='title', ascending = False)\n",
    "user_movie_rating_distribution.title.describe()"
   ]
  },
  {
   "cell_type": "markdown",
   "id": "ed94faf1",
   "metadata": {},
   "source": [
    "This gives us some important information about how the movie rating are distributed across the users.\n",
    "We see that on an average, a user will rate to 24 movies, while some users have a low voracious appetite for\n",
    "movie diversification."
   ]
  },
  {
   "cell_type": "code",
   "execution_count": 32,
   "id": "3ab02afe",
   "metadata": {},
   "outputs": [
    {
     "data": {
      "text/html": [
       "<div>\n",
       "<style scoped>\n",
       "    .dataframe tbody tr th:only-of-type {\n",
       "        vertical-align: middle;\n",
       "    }\n",
       "\n",
       "    .dataframe tbody tr th {\n",
       "        vertical-align: top;\n",
       "    }\n",
       "\n",
       "    .dataframe thead th {\n",
       "        text-align: right;\n",
       "    }\n",
       "</style>\n",
       "<table border=\"1\" class=\"dataframe\">\n",
       "  <thead>\n",
       "    <tr style=\"text-align: right;\">\n",
       "      <th></th>\n",
       "      <th>user_id</th>\n",
       "      <th>title</th>\n",
       "    </tr>\n",
       "  </thead>\n",
       "  <tbody>\n",
       "    <tr>\n",
       "      <th>4129</th>\n",
       "      <td>4169</td>\n",
       "      <td>437</td>\n",
       "    </tr>\n",
       "    <tr>\n",
       "      <th>4237</th>\n",
       "      <td>4277</td>\n",
       "      <td>326</td>\n",
       "    </tr>\n",
       "    <tr>\n",
       "      <th>1660</th>\n",
       "      <td>1680</td>\n",
       "      <td>298</td>\n",
       "    </tr>\n",
       "    <tr>\n",
       "      <th>883</th>\n",
       "      <td>889</td>\n",
       "      <td>284</td>\n",
       "    </tr>\n",
       "    <tr>\n",
       "      <th>1917</th>\n",
       "      <td>1941</td>\n",
       "      <td>280</td>\n",
       "    </tr>\n",
       "    <tr>\n",
       "      <th>1172</th>\n",
       "      <td>1181</td>\n",
       "      <td>261</td>\n",
       "    </tr>\n",
       "    <tr>\n",
       "      <th>1435</th>\n",
       "      <td>1449</td>\n",
       "      <td>238</td>\n",
       "    </tr>\n",
       "    <tr>\n",
       "      <th>420</th>\n",
       "      <td>424</td>\n",
       "      <td>232</td>\n",
       "    </tr>\n",
       "    <tr>\n",
       "      <th>545</th>\n",
       "      <td>549</td>\n",
       "      <td>221</td>\n",
       "    </tr>\n",
       "    <tr>\n",
       "      <th>2036</th>\n",
       "      <td>2063</td>\n",
       "      <td>215</td>\n",
       "    </tr>\n",
       "  </tbody>\n",
       "</table>\n",
       "</div>"
      ],
      "text/plain": [
       "      user_id  title\n",
       "4129     4169    437\n",
       "4237     4277    326\n",
       "1660     1680    298\n",
       "883       889    284\n",
       "1917     1941    280\n",
       "1172     1181    261\n",
       "1435     1449    238\n",
       "420       424    232\n",
       "545       549    221\n",
       "2036     2063    215"
      ]
     },
     "execution_count": 32,
     "metadata": {},
     "output_type": "execute_result"
    }
   ],
   "source": [
    "user_movie_rating_distribution.head(n=10)"
   ]
  },
  {
   "cell_type": "code",
   "execution_count": 33,
   "id": "d476e52f",
   "metadata": {},
   "outputs": [
    {
     "data": {
      "image/png": "[encoded data removed]",
      "text/plain": [
       "<Figure size 640x480 with 1 Axes>"
      ]
     },
     "metadata": {},
     "output_type": "display_data"
    }
   ],
   "source": [
    "x = user_movie_rating_distribution.title\n",
    "n, bins, patches = plt.hist(x, 10, facecolor='green', alpha=0.75)\n",
    "plt.xlabel('Rating')\n",
    "plt.ylabel('Users')\n",
    "plt.title(r'$\\mathrm{Histogram\\ of\\ User\\ Rating\\ Distribution}\\ $')\n",
    "plt.grid(True)\n",
    "plt.show()"
   ]
  },
  {
   "cell_type": "markdown",
   "id": "dfc05147",
   "metadata": {},
   "source": [
    "# (5) Recomendation System"
   ]
  },
  {
   "cell_type": "code",
   "execution_count": 34,
   "id": "7cf7d7be",
   "metadata": {},
   "outputs": [
    {
     "data": {
      "text/plain": [
       "<5972x740 sparse matrix of type '<class 'numpy.float64'>'\n",
       "\twith 146857 stored elements in COOrdinate format>"
      ]
     },
     "execution_count": 34,
     "metadata": {},
     "output_type": "execute_result"
    }
   ],
   "source": [
    "from scipy.sparse import coo_matrix\n",
    "small_set = data\n",
    "user_codes = small_set.user_id.drop_duplicates().reset_index()\n",
    "movie_codes = small_set.movie_id.drop_duplicates().reset_index()\n",
    "user_codes.rename(columns={'index':'user_index'}, inplace=True)\n",
    "movie_codes.rename(columns={'index':'movie_index'}, inplace=True)\n",
    "movie_codes['mo_index_value'] = list(movie_codes.index)\n",
    "user_codes['us_index_value'] = list(user_codes.index)\n",
    "small_set = pd.merge(small_set, movie_codes,how='left')\n",
    "small_set = pd.merge(small_set, user_codes,how='left')\n",
    "mat_candidate = small_set[['us_index_value','mo_index_value','rating']]\n",
    "data_array = mat_candidate.rating.values\n",
    "row_array = mat_candidate.us_index_value.values\n",
    "col_array = mat_candidate.mo_index_value.values\n",
    "data_sparse = coo_matrix((data_array, (row_array, col_array)),dtype=float)\n",
    "data_sparse"
   ]
  },
  {
   "cell_type": "markdown",
   "id": "fb4abb4d",
   "metadata": {},
   "source": [
    "Since we have converted our matrix into a sparse matrix, we will use the svds function provided by the\n",
    "scipy library to break down our utility matrix into three different matrices. We can specify the number of latent factors we want to factorize our data."
   ]
  },
  {
   "cell_type": "markdown",
   "id": "caea724a",
   "metadata": {},
   "source": [
    "The following code creates the decomposition of our matrix and predicts the recommendation for the same user as in the item similarity recommendation use case:"
   ]
  },
  {
   "cell_type": "code",
   "execution_count": 35,
   "id": "891fa592",
   "metadata": {},
   "outputs": [],
   "source": [
    "K=50\n",
    "\n",
    "urm = data_sparse\n",
    "MAX_PID = urm.shape[1]\n",
    "MAX_UID = urm.shape[0]\n",
    "\n",
    "import math as mt\n",
    "from scipy.sparse.linalg import * #used for matrix multiplication\n",
    "from scipy.sparse.linalg import svds\n",
    "from scipy.sparse import csc_matrix\n",
    "\n",
    "\n",
    "\n",
    "def comp_svd(urm, K):\n",
    "    U, s, Vt = svds(urm, K)\n",
    "\n",
    "    dim = (len(s), len(s))\n",
    "    S = np.zeros(dim, dtype=np.float32)\n",
    "    for i in range(0, len(s)):\n",
    "        S[i,i] = mt.sqrt(s[i])\n",
    "\n",
    "    U = csc_matrix(U, dtype=np.float32)\n",
    "    S = csc_matrix(S, dtype=np.float32)\n",
    "    Vt = csc_matrix(Vt, dtype=np.float32)\n",
    "    \n",
    "    return U, S, Vt\n",
    "\n",
    "def comp_est_matx(urm, U, S, Vt, uTest, K, test):\n",
    "    rightTerm = S*Vt \n",
    "    max_recommendation = 250\n",
    "    estimatedRatings = np.zeros(shape=(MAX_UID, MAX_PID), dtype=np.float16)\n",
    "    recomendRatings = np.zeros(shape=(MAX_UID,max_recommendation ), dtype=np.float16)\n",
    "    for userTest in uTest:\n",
    "        prod = U[userTest, :]*rightTerm\n",
    "        estimatedRatings[userTest, :] = prod.todense()\n",
    "        recomendRatings[userTest, :] = (-estimatedRatings[userTest, :]).argsort()[:max_recommendation]\n",
    "    return recomendRatings\n",
    "\n",
    "U, S, Vt = comp_svd(urm, K)\n",
    "uTest = [4129]\n",
    "\n",
    "\n",
    "\n",
    "\n",
    "\n",
    "        "
   ]
  },
  {
   "cell_type": "code",
   "execution_count": 36,
   "id": "bb3af2e5",
   "metadata": {},
   "outputs": [
    {
     "name": "stdout",
     "output_type": "stream",
     "text": [
      "Predicted ratings:\n",
      "Recommendation for user with user id 4129\n",
      "The number 1 recommended movie is Almost Famous (2000) BY 3897\n",
      "The number 2 recommended movie is Double Indemnity (1944) BY 3435\n",
      "The number 3 recommended movie is Fantastic Voyage (1966) BY 3927\n",
      "The number 4 recommended movie is Meet the Parents (2000) BY 3948\n",
      "The number 5 recommended movie is Key Largo (1948) BY 3334\n",
      "The number 6 recommended movie is Invisible Man, The (1933) BY 3932\n",
      "The number 7 recommended movie is Abbott and Costello Meet Frankenstein (1948) BY 3928\n",
      "The number 8 recommended movie is Voyage to the Bottom of the Sea (1961) BY 3926\n",
      "The number 9 recommended movie is Creature From the Black Lagoon, The (1954) BY 3930\n",
      "The number 10 recommended movie is Remember the Titans (2000) BY 3916\n"
     ]
    }
   ],
   "source": [
    "print(\"Predicted ratings:\")\n",
    "uTest_recommended_items = comp_est_matx(urm, U, S, Vt, uTest, K, True)\n",
    "for user in uTest:\n",
    "    print(\"Recommendation for user with user id {}\". format(user))\n",
    "rank_value = 1\n",
    "for i in uTest_recommended_items[user,0:10]:\n",
    "    movie_details = small_set[small_set.mo_index_value == i].drop_duplicates('mo_index_value')[['title','movie_id']]\n",
    "    print(\"The number {} recommended movie is {} BY {}\".format(rank_value, list(movie_details['title'])[0],list(movie_details['movie_id'])[0]))\n",
    "    rank_value+=1"
   ]
  },
  {
   "cell_type": "code",
   "execution_count": null,
   "id": "95db3176",
   "metadata": {},
   "outputs": [],
   "source": []
  },
  {
   "cell_type": "code",
   "execution_count": null,
   "id": "d72cf2b0",
   "metadata": {},
   "outputs": [],
   "source": []
  },
  {
   "cell_type": "code",
   "execution_count": null,
   "id": "9482e216",
   "metadata": {},
   "outputs": [],
   "source": []
  },
  {
   "cell_type": "code",
   "execution_count": null,
   "id": "8d7b45c1",
   "metadata": {},
   "outputs": [],
   "source": []
  }
 ],
 "metadata": {
  "kernelspec": {
   "display_name": "Python 3 (ipykernel)",
   "language": "python",
   "name": "python3"
  },
  "language_info": {
   "codemirror_mode": {
    "name": "ipython",
    "version": 3
   },
   "file_extension": ".py",
   "mimetype": "text/x-python",
   "name": "python",
   "nbconvert_exporter": "python",
   "pygments_lexer": "ipython3",
   "version": "3.11.3"
  }
 },
 "nbformat": 4,
 "nbformat_minor": 5
}
